{
 "cells": [
  {
   "cell_type": "code",
   "execution_count": null,
   "metadata": {},
   "outputs": [],
   "source": [
    "from functools import reduce\n",
    "#Python3 code to demonstrate  \n",
    "# each occurrence frequency using  \n",
    "# collections.Counter() \n",
    "from collections import Counter\n",
    "import math"
   ]
  },
  {
   "cell_type": "code",
   "execution_count": 37,
   "metadata": {},
   "outputs": [],
   "source": [
    "# Negative values also work to make a copy of the same list in reverse order: \n",
    "#L[::-1]\n",
    "def is_palindrome(string_var):\n",
    "    '''\n",
    "    returns True if string_var is palindrome, False otherwise\n",
    "    '''\n",
    "    return string_var == string_var[::-1]\n",
    "\n",
    "#using collections.Counter() to get  \n",
    "# count of each element in string  \n",
    "def histogram_letters(string_var):\n",
    "    '''\n",
    "    count how many times a letter is present in the string_var\n",
    "    and returns a dict.\n",
    "    '''\n",
    "    return dict(Counter(string_var))\n",
    "\n",
    "# most_common([n])\n",
    "#Return a list of the n most common elements and their counts from \n",
    "#the most common to the least. If n is omitted or None, most_common() returns all elements in the counter\n",
    "def get_most_frequent(list_var):\n",
    "    '''\n",
    "    returns a tuple with the most frequent object in the list with the\n",
    "    corresponing number\n",
    "    '''\n",
    "    return Counter(list_var).most_common(1)[0]\n",
    "\n",
    "\n",
    "def which_duplicates(list_var):\n",
    "    '''\n",
    "    return a dict with containing the repeted object and\n",
    "    the number of repetitions\n",
    "    '''\n",
    "    # items() method is used to return the list with all dictionary keys with values.\n",
    "    return {k:v for k, v in Counter(list_var).items() if v > 1}\n",
    "\n",
    "\n",
    "def compute_factorial(int_val):\n",
    "    '''\n",
    "    returns factorial of a number\n",
    "    '''\n",
    "    return reduce(lambda x, y: x * y, range(1, int_val + 1))\n",
    "\n",
    "\n",
    "def is_prime(n):\n",
    "    '''\n",
    "    returns True if int_val is prime, False otherwise\n",
    "    '''\n",
    "    if (n==1):\n",
    "        return False\n",
    "    elif (n==2):\n",
    "        return True;\n",
    "    else:\n",
    "        for x in range(2,n):\n",
    "            if(n % x==0):\n",
    "                return False\n",
    "        return True             \n"
   ]
  },
  {
   "cell_type": "code",
   "execution_count": 35,
   "metadata": {},
   "outputs": [
    {
     "name": "stdout",
     "output_type": "stream",
     "text": [
      "True\n"
     ]
    }
   ],
   "source": [
    "print(is_palindrome(\"ELLE\"))"
   ]
  },
  {
   "cell_type": "code",
   "execution_count": 31,
   "metadata": {},
   "outputs": [
    {
     "name": "stdout",
     "output_type": "stream",
     "text": [
      "True\n"
     ]
    }
   ],
   "source": [
    "print(is_prime(5))"
   ]
  },
  {
   "cell_type": "code",
   "execution_count": 33,
   "metadata": {},
   "outputs": [
    {
     "name": "stdout",
     "output_type": "stream",
     "text": [
      "{'H': 1, 'E': 1, 'L': 3, 'O': 2, ' ': 1, 'W': 1, 'R': 1, 'D': 1, '?': 1}\n"
     ]
    }
   ],
   "source": [
    "print(histogram_letters(\"HELLO WORLD?\"))"
   ]
  },
  {
   "cell_type": "code",
   "execution_count": 38,
   "metadata": {},
   "outputs": [
    {
     "name": "stdout",
     "output_type": "stream",
     "text": [
      "(6, 4)\n"
     ]
    }
   ],
   "source": [
    "print(get_most_frequent([1,2,3,4,5,5,5,6,6,6,6,7,8,9,9]))"
   ]
  },
  {
   "cell_type": "code",
   "execution_count": 43,
   "metadata": {},
   "outputs": [
    {
     "name": "stdout",
     "output_type": "stream",
     "text": [
      "{'E': 3, 'M': 7}\n"
     ]
    }
   ],
   "source": [
    "print(which_duplicates(\"EEEKDMMMMMMMC\"))"
   ]
  },
  {
   "cell_type": "code",
   "execution_count": 42,
   "metadata": {},
   "outputs": [
    {
     "name": "stdout",
     "output_type": "stream",
     "text": [
      "24\n"
     ]
    }
   ],
   "source": [
    "print(compute_factorial(4))"
   ]
  },
  {
   "cell_type": "code",
   "execution_count": 41,
   "metadata": {},
   "outputs": [
    {
     "name": "stdout",
     "output_type": "stream",
     "text": [
      "False\n"
     ]
    }
   ],
   "source": [
    "print(is_prime(40))"
   ]
  },
  {
   "cell_type": "code",
   "execution_count": null,
   "metadata": {},
   "outputs": [],
   "source": []
  }
 ],
 "metadata": {
  "kernelspec": {
   "display_name": "Python 3",
   "language": "python",
   "name": "python3"
  },
  "language_info": {
   "codemirror_mode": {
    "name": "ipython",
    "version": 3
   },
   "file_extension": ".py",
   "mimetype": "text/x-python",
   "name": "python",
   "nbconvert_exporter": "python",
   "pygments_lexer": "ipython3",
   "version": "3.6.8"
  }
 },
 "nbformat": 4,
 "nbformat_minor": 2
}
