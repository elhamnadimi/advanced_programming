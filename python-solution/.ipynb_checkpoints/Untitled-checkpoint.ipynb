{
 "cells": [
  {
   "cell_type": "code",
   "execution_count": 97,
   "metadata": {},
   "outputs": [],
   "source": [
    "import this"
   ]
  },
  {
   "cell_type": "code",
   "execution_count": 102,
   "metadata": {},
   "outputs": [],
   "source": [
    "import antigravity"
   ]
  },
  {
   "cell_type": "code",
   "execution_count": 103,
   "metadata": {},
   "outputs": [
    {
     "name": "stdout",
     "output_type": "stream",
     "text": [
      "['aa', 'dd', 'qq', 'tt', 'uu', 'zz']\n"
     ]
    }
   ],
   "source": [
    "w = ['qq', 'aa', 'zz', 'dd', 'tt', 'uu']\n",
    "#key Optional. A Function to execute to decide the order. Default is None\n",
    "sorted_low = sorted(w, key = lambda w: w[::-1])\n",
    "\n",
    "print(sorted_low)"
   ]
  },
  {
   "cell_type": "code",
   "execution_count": 114,
   "metadata": {},
   "outputs": [],
   "source": [
    "import copy\n",
    "class Sequence():\n",
    "    def __init__(self, components):\n",
    "        self._components = list(copy.deepcopy(components))\n",
    "        \n",
    "    def __len__(self):\n",
    "        return len(self._components)\n",
    "    \n",
    "    def __iter__(self):\n",
    "        return iter(self._components)\n",
    "    \n",
    "    def __getitem__(self,index):\n",
    "        return self._components[index]\n",
    "    \n",
    "    def __eq__(self,other):\n",
    "        return len(self) == len(other) and all(a==b for a,b in zip(self,other))\n",
    "        #return self._components == other._components # would be sufficient\n",
    "    \n",
    "    def __delitem__(self,index):\n",
    "        del self._components[index]\n",
    "    \n",
    "    def __setitem__(self,key,value):\n",
    "        self._components[key] = value\n",
    "    \n",
    "    def insert(self, key, value):\n",
    "        self._components.insert(key,value)\n",
    "        \n",
    "    def append(self, value):\n",
    "        self._components.append(value)\n",
    "        \n",
    "    def __str__(self):\n",
    "        return str(self._components)\n",
    "    \n",
    "    def __copy__(self):\n",
    "        return copy.deepcopy(self._components)"
   ]
  },
  {
   "cell_type": "code",
   "execution_count": null,
   "metadata": {},
   "outputs": [],
   "source": [
    "s = Sequence(range(12))\n",
    "s1 = Sequence(range(12))\n",
    "s2 = Sequence(range(10))\n",
    "#print(s)\n",
    "\n",
    "s.append(999)\n",
    "s = deepcopy(s2)\n",
    "s is s2\n",
    "print(s2)"
   ]
  },
  {
   "cell_type": "code",
   "execution_count": null,
   "metadata": {},
   "outputs": [],
   "source": []
  }
 ],
 "metadata": {
  "kernelspec": {
   "display_name": "Python 3",
   "language": "python",
   "name": "python3"
  },
  "language_info": {
   "codemirror_mode": {
    "name": "ipython",
    "version": 3
   },
   "file_extension": ".py",
   "mimetype": "text/x-python",
   "name": "python",
   "nbconvert_exporter": "python",
   "pygments_lexer": "ipython3",
   "version": "3.6.8"
  }
 },
 "nbformat": 4,
 "nbformat_minor": 2
}
