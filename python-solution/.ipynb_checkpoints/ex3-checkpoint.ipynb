{
 "cells": [
  {
   "cell_type": "code",
   "execution_count": 38,
   "metadata": {},
   "outputs": [
    {
     "name": "stdout",
     "output_type": "stream",
     "text": [
      "1\n",
      "4\n",
      "7\n"
     ]
    }
   ],
   "source": [
    "class MyRange():\n",
    "    \"\"\"\n",
    "    Class MyRange that acts like a range.\n",
    "    \"\"\"      \n",
    "    def __init__(self, start, stop, step=1):\n",
    "        \"\"\"\n",
    "        Initialize the range member of the MyRange class.\n",
    "        \"\"\"\n",
    "        self.range = range(start, stop, step)\n",
    "def myrange(*args):\n",
    "    \"\"\"\n",
    "    Returns a custom range, managing argument errors.\n",
    "    \"\"\"\n",
    "    #*args can be used as a parameter to send a non-keyworded variable-length argument list to functions. \n",
    "    num_args = len(args)\n",
    "    if num_args not in [1,2,3]:\n",
    "        raise TypeError(str(num_args) +\"myrange should have at most three arguments and at least one!\")\n",
    "    if num_args==1:\n",
    "        return MyRange(0,args[0]).range\n",
    "    elif num_args==2:\n",
    "        return MyRange(args[0],args[1]).range\n",
    "    elif num_args==3:\n",
    "        return MyRange(args[0],args[1],args[2]).range\n",
    "    \n",
    "for i in myrange(1,9,3):\n",
    "    print(i)"
   ]
  },
  {
   "cell_type": "code",
   "execution_count": 34,
   "metadata": {},
   "outputs": [
    {
     "name": "stdout",
     "output_type": "stream",
     "text": [
      "Sum: 17\n",
      "Execution time: 0.0007682750001549721 seconds\n",
      "Result: 333283335000\n"
     ]
    }
   ],
   "source": [
    "import time\n",
    "\n",
    "class Timer:\n",
    "    def __enter__(self):\n",
    "        self.start = time.perf_counter()\n",
    "    \n",
    "    def __exit__(self, exc_type, exc_value, traceback):\n",
    "        \n",
    "        self.end = time.perf_counter()\n",
    "        elapsed = self.end - self.start\n",
    "        \n",
    "        print(\"Execution time:\", elapsed, 'seconds')\n",
    "\n",
    "with Timer() as timer:\n",
    "    def adder(*num):\n",
    "        sum = 0\n",
    "        \n",
    "        for n in num:\n",
    "            sum = sum + n\n",
    "        print(\"Sum:\",sum)\n",
    "    adder(1,2,3,5,6)\n",
    "print(\"Resut:\",val)"
   ]
  },
  {
   "cell_type": "code",
   "execution_count": null,
   "metadata": {},
   "outputs": [],
   "source": []
  },
  {
   "cell_type": "code",
   "execution_count": null,
   "metadata": {},
   "outputs": [],
   "source": []
  }
 ],
 "metadata": {
  "kernelspec": {
   "display_name": "Python 3",
   "language": "python",
   "name": "python3"
  },
  "language_info": {
   "codemirror_mode": {
    "name": "ipython",
    "version": 3
   },
   "file_extension": ".py",
   "mimetype": "text/x-python",
   "name": "python",
   "nbconvert_exporter": "python",
   "pygments_lexer": "ipython3",
   "version": "3.6.8"
  }
 },
 "nbformat": 4,
 "nbformat_minor": 2
}
